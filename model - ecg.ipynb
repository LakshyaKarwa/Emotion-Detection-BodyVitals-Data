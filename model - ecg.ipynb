{
 "cells": [
  {
   "cell_type": "code",
   "execution_count": 1,
   "metadata": {},
   "outputs": [],
   "source": [
    "import os\n",
    "import gc"
   ]
  },
  {
   "cell_type": "code",
   "execution_count": 2,
   "metadata": {},
   "outputs": [],
   "source": [
    "import pandas as pd\n",
    "import numpy as np\n",
    "import matplotlib.pyplot as plt\n",
    "%matplotlib inline\n",
    "import tensorflow as tf"
   ]
  },
  {
   "cell_type": "code",
   "execution_count": 3,
   "metadata": {},
   "outputs": [],
   "source": [
    "from tensorflow import keras\n",
    "from keras import layers\n",
    "\n",
    "from sklearn.preprocessing import StandardScaler\n",
    "from sklearn.svm import SVC\n",
    "from sklearn.metrics import accuracy_score, recall_score, f1_score, confusion_matrix\n",
    "from sklearn.model_selection import LeaveOneGroupOut, LeavePGroupsOut"
   ]
  },
  {
   "cell_type": "code",
   "execution_count": 4,
   "metadata": {},
   "outputs": [
    {
     "name": "stdout",
     "output_type": "stream",
     "text": [
      "Num GPUs Available:  1\n"
     ]
    }
   ],
   "source": [
    "print(\"Num GPUs Available: \", len(tf.config.list_physical_devices('GPU')))"
   ]
  },
  {
   "cell_type": "code",
   "execution_count": 5,
   "metadata": {},
   "outputs": [
    {
     "data": {
      "text/html": [
       "<div>\n",
       "<style scoped>\n",
       "    .dataframe tbody tr th:only-of-type {\n",
       "        vertical-align: middle;\n",
       "    }\n",
       "\n",
       "    .dataframe tbody tr th {\n",
       "        vertical-align: top;\n",
       "    }\n",
       "\n",
       "    .dataframe thead th {\n",
       "        text-align: right;\n",
       "    }\n",
       "</style>\n",
       "<table border=\"1\" class=\"dataframe\">\n",
       "  <thead>\n",
       "    <tr style=\"text-align: right;\">\n",
       "      <th></th>\n",
       "      <th>pid</th>\n",
       "      <th>lab</th>\n",
       "      <th>bpm</th>\n",
       "      <th>ibi</th>\n",
       "      <th>sdnn</th>\n",
       "      <th>sdsd</th>\n",
       "      <th>rmssd</th>\n",
       "      <th>pnn20</th>\n",
       "      <th>pnn50</th>\n",
       "      <th>hr_mad</th>\n",
       "      <th>sd1</th>\n",
       "      <th>sd2</th>\n",
       "      <th>s</th>\n",
       "      <th>sd1/sd2</th>\n",
       "      <th>breathingrate</th>\n",
       "      <th>lf</th>\n",
       "      <th>hf</th>\n",
       "      <th>lf/hf</th>\n",
       "    </tr>\n",
       "  </thead>\n",
       "  <tbody>\n",
       "    <tr>\n",
       "      <th>S10_000</th>\n",
       "      <td>S10</td>\n",
       "      <td>Base</td>\n",
       "      <td>100.351586</td>\n",
       "      <td>597.897874</td>\n",
       "      <td>20.918173</td>\n",
       "      <td>3.974686</td>\n",
       "      <td>6.208745</td>\n",
       "      <td>0.000000</td>\n",
       "      <td>0.0</td>\n",
       "      <td>15.62500</td>\n",
       "      <td>4.371335</td>\n",
       "      <td>29.151830</td>\n",
       "      <td>400.340724</td>\n",
       "      <td>0.149951</td>\n",
       "      <td>0.069023</td>\n",
       "      <td>4317.830834</td>\n",
       "      <td>886.033184</td>\n",
       "      <td>4.873216</td>\n",
       "    </tr>\n",
       "    <tr>\n",
       "      <th>S10_001</th>\n",
       "      <td>S10</td>\n",
       "      <td>Base</td>\n",
       "      <td>101.107492</td>\n",
       "      <td>593.427835</td>\n",
       "      <td>19.516506</td>\n",
       "      <td>4.361267</td>\n",
       "      <td>6.585369</td>\n",
       "      <td>0.000000</td>\n",
       "      <td>0.0</td>\n",
       "      <td>11.71875</td>\n",
       "      <td>4.647473</td>\n",
       "      <td>27.295107</td>\n",
       "      <td>398.521312</td>\n",
       "      <td>0.170268</td>\n",
       "      <td>0.121707</td>\n",
       "      <td>1633.377329</td>\n",
       "      <td>646.859113</td>\n",
       "      <td>2.525090</td>\n",
       "    </tr>\n",
       "    <tr>\n",
       "      <th>S10_002</th>\n",
       "      <td>S10</td>\n",
       "      <td>Base</td>\n",
       "      <td>101.610857</td>\n",
       "      <td>590.488080</td>\n",
       "      <td>18.094553</td>\n",
       "      <td>5.043338</td>\n",
       "      <td>7.379010</td>\n",
       "      <td>0.010526</td>\n",
       "      <td>0.0</td>\n",
       "      <td>11.71875</td>\n",
       "      <td>5.211182</td>\n",
       "      <td>25.070505</td>\n",
       "      <td>410.439547</td>\n",
       "      <td>0.207861</td>\n",
       "      <td>0.069896</td>\n",
       "      <td>4289.566142</td>\n",
       "      <td>420.117395</td>\n",
       "      <td>10.210399</td>\n",
       "    </tr>\n",
       "    <tr>\n",
       "      <th>S10_003</th>\n",
       "      <td>S10</td>\n",
       "      <td>Base</td>\n",
       "      <td>102.648846</td>\n",
       "      <td>584.517045</td>\n",
       "      <td>18.080210</td>\n",
       "      <td>4.874242</td>\n",
       "      <td>6.949337</td>\n",
       "      <td>0.010309</td>\n",
       "      <td>0.0</td>\n",
       "      <td>11.71875</td>\n",
       "      <td>4.907236</td>\n",
       "      <td>25.190906</td>\n",
       "      <td>388.356480</td>\n",
       "      <td>0.194802</td>\n",
       "      <td>0.069183</td>\n",
       "      <td>11034.009898</td>\n",
       "      <td>871.615284</td>\n",
       "      <td>12.659266</td>\n",
       "    </tr>\n",
       "    <tr>\n",
       "      <th>S10_004</th>\n",
       "      <td>S10</td>\n",
       "      <td>Base</td>\n",
       "      <td>103.052318</td>\n",
       "      <td>582.228535</td>\n",
       "      <td>17.769968</td>\n",
       "      <td>4.959666</td>\n",
       "      <td>7.270157</td>\n",
       "      <td>0.010309</td>\n",
       "      <td>0.0</td>\n",
       "      <td>11.71875</td>\n",
       "      <td>5.140778</td>\n",
       "      <td>24.741109</td>\n",
       "      <td>399.574576</td>\n",
       "      <td>0.207783</td>\n",
       "      <td>0.069453</td>\n",
       "      <td>14116.895674</td>\n",
       "      <td>1392.987428</td>\n",
       "      <td>10.134259</td>\n",
       "    </tr>\n",
       "  </tbody>\n",
       "</table>\n",
       "</div>"
      ],
      "text/plain": [
       "         pid   lab         bpm         ibi       sdnn      sdsd     rmssd  \\\n",
       "S10_000  S10  Base  100.351586  597.897874  20.918173  3.974686  6.208745   \n",
       "S10_001  S10  Base  101.107492  593.427835  19.516506  4.361267  6.585369   \n",
       "S10_002  S10  Base  101.610857  590.488080  18.094553  5.043338  7.379010   \n",
       "S10_003  S10  Base  102.648846  584.517045  18.080210  4.874242  6.949337   \n",
       "S10_004  S10  Base  103.052318  582.228535  17.769968  4.959666  7.270157   \n",
       "\n",
       "            pnn20  pnn50    hr_mad       sd1        sd2           s   sd1/sd2  \\\n",
       "S10_000  0.000000    0.0  15.62500  4.371335  29.151830  400.340724  0.149951   \n",
       "S10_001  0.000000    0.0  11.71875  4.647473  27.295107  398.521312  0.170268   \n",
       "S10_002  0.010526    0.0  11.71875  5.211182  25.070505  410.439547  0.207861   \n",
       "S10_003  0.010309    0.0  11.71875  4.907236  25.190906  388.356480  0.194802   \n",
       "S10_004  0.010309    0.0  11.71875  5.140778  24.741109  399.574576  0.207783   \n",
       "\n",
       "         breathingrate            lf           hf      lf/hf  \n",
       "S10_000       0.069023   4317.830834   886.033184   4.873216  \n",
       "S10_001       0.121707   1633.377329   646.859113   2.525090  \n",
       "S10_002       0.069896   4289.566142   420.117395  10.210399  \n",
       "S10_003       0.069183  11034.009898   871.615284  12.659266  \n",
       "S10_004       0.069453  14116.895674  1392.987428  10.134259  "
      ]
     },
     "execution_count": 5,
     "metadata": {},
     "output_type": "execute_result"
    }
   ],
   "source": [
    "ecg_expert = pd.read_csv('ECG_expert_features.csv', index_col=0)\n",
    "ecg_expert.head(5)"
   ]
  },
  {
   "cell_type": "code",
   "execution_count": 7,
   "metadata": {},
   "outputs": [
    {
     "name": "stdout",
     "output_type": "stream",
     "text": [
      "<class 'pandas.core.frame.DataFrame'>\n",
      "Index: 3199 entries, S10_000 to S9_211\n",
      "Data columns (total 18 columns):\n",
      " #   Column         Non-Null Count  Dtype  \n",
      "---  ------         --------------  -----  \n",
      " 0   pid            3199 non-null   object \n",
      " 1   lab            3199 non-null   object \n",
      " 2   bpm            3199 non-null   float64\n",
      " 3   ibi            3199 non-null   float64\n",
      " 4   sdnn           3199 non-null   float64\n",
      " 5   sdsd           3199 non-null   float64\n",
      " 6   rmssd          3199 non-null   float64\n",
      " 7   pnn20          3199 non-null   float64\n",
      " 8   pnn50          3199 non-null   float64\n",
      " 9   hr_mad         3199 non-null   float64\n",
      " 10  sd1            3199 non-null   float64\n",
      " 11  sd2            3199 non-null   float64\n",
      " 12  s              3199 non-null   float64\n",
      " 13  sd1/sd2        3199 non-null   float64\n",
      " 14  breathingrate  3199 non-null   float64\n",
      " 15  lf             3199 non-null   float64\n",
      " 16  hf             3199 non-null   float64\n",
      " 17  lf/hf          3199 non-null   float64\n",
      "dtypes: float64(16), object(2)\n",
      "memory usage: 474.9+ KB\n"
     ]
    }
   ],
   "source": [
    "ecg_expert.info()"
   ]
  },
  {
   "cell_type": "code",
   "execution_count": 6,
   "metadata": {},
   "outputs": [
    {
     "data": {
      "text/html": [
       "<div>\n",
       "<style scoped>\n",
       "    .dataframe tbody tr th:only-of-type {\n",
       "        vertical-align: middle;\n",
       "    }\n",
       "\n",
       "    .dataframe tbody tr th {\n",
       "        vertical-align: top;\n",
       "    }\n",
       "\n",
       "    .dataframe thead th {\n",
       "        text-align: right;\n",
       "    }\n",
       "</style>\n",
       "<table border=\"1\" class=\"dataframe\">\n",
       "  <thead>\n",
       "    <tr style=\"text-align: right;\">\n",
       "      <th></th>\n",
       "      <th>bpm</th>\n",
       "      <th>ibi</th>\n",
       "      <th>sdnn</th>\n",
       "      <th>sdsd</th>\n",
       "      <th>rmssd</th>\n",
       "      <th>pnn20</th>\n",
       "      <th>pnn50</th>\n",
       "      <th>hr_mad</th>\n",
       "      <th>sd1</th>\n",
       "      <th>sd2</th>\n",
       "      <th>s</th>\n",
       "      <th>sd1/sd2</th>\n",
       "      <th>breathingrate</th>\n",
       "      <th>lf</th>\n",
       "      <th>hf</th>\n",
       "      <th>lf/hf</th>\n",
       "    </tr>\n",
       "  </thead>\n",
       "  <tbody>\n",
       "    <tr>\n",
       "      <th>count</th>\n",
       "      <td>3199.000000</td>\n",
       "      <td>3199.000000</td>\n",
       "      <td>3199.000000</td>\n",
       "      <td>3199.000000</td>\n",
       "      <td>3199.000000</td>\n",
       "      <td>3199.000000</td>\n",
       "      <td>3199.000000</td>\n",
       "      <td>3199.000000</td>\n",
       "      <td>3199.000000</td>\n",
       "      <td>3199.000000</td>\n",
       "      <td>3199.000000</td>\n",
       "      <td>3199.000000</td>\n",
       "      <td>3199.000000</td>\n",
       "      <td>3.199000e+03</td>\n",
       "      <td>3.199000e+03</td>\n",
       "      <td>3199.000000</td>\n",
       "    </tr>\n",
       "    <tr>\n",
       "      <th>mean</th>\n",
       "      <td>80.662209</td>\n",
       "      <td>778.932925</td>\n",
       "      <td>68.214313</td>\n",
       "      <td>30.405282</td>\n",
       "      <td>47.280005</td>\n",
       "      <td>0.506018</td>\n",
       "      <td>0.235460</td>\n",
       "      <td>45.479300</td>\n",
       "      <td>33.246691</td>\n",
       "      <td>88.592962</td>\n",
       "      <td>10932.294375</td>\n",
       "      <td>0.373138</td>\n",
       "      <td>0.120212</td>\n",
       "      <td>3.705577e+43</td>\n",
       "      <td>7.967254e+46</td>\n",
       "      <td>3.994220</td>\n",
       "    </tr>\n",
       "    <tr>\n",
       "      <th>std</th>\n",
       "      <td>19.495826</td>\n",
       "      <td>155.005556</td>\n",
       "      <td>29.983841</td>\n",
       "      <td>19.748978</td>\n",
       "      <td>31.545604</td>\n",
       "      <td>0.235930</td>\n",
       "      <td>0.201243</td>\n",
       "      <td>23.294007</td>\n",
       "      <td>21.890124</td>\n",
       "      <td>38.379289</td>\n",
       "      <td>11800.780974</td>\n",
       "      <td>0.163020</td>\n",
       "      <td>0.106801</td>\n",
       "      <td>2.095863e+45</td>\n",
       "      <td>4.506255e+48</td>\n",
       "      <td>5.624331</td>\n",
       "    </tr>\n",
       "    <tr>\n",
       "      <th>min</th>\n",
       "      <td>50.666315</td>\n",
       "      <td>248.263889</td>\n",
       "      <td>11.424330</td>\n",
       "      <td>0.000000</td>\n",
       "      <td>4.360596</td>\n",
       "      <td>0.000000</td>\n",
       "      <td>0.000000</td>\n",
       "      <td>7.812500</td>\n",
       "      <td>0.000000</td>\n",
       "      <td>0.000000</td>\n",
       "      <td>0.000000</td>\n",
       "      <td>0.083261</td>\n",
       "      <td>0.040235</td>\n",
       "      <td>0.000000e+00</td>\n",
       "      <td>0.000000e+00</td>\n",
       "      <td>0.000000</td>\n",
       "    </tr>\n",
       "    <tr>\n",
       "      <th>25%</th>\n",
       "      <td>68.920100</td>\n",
       "      <td>688.181323</td>\n",
       "      <td>47.441935</td>\n",
       "      <td>17.641069</td>\n",
       "      <td>27.012776</td>\n",
       "      <td>0.338710</td>\n",
       "      <td>0.065789</td>\n",
       "      <td>29.296875</td>\n",
       "      <td>19.044313</td>\n",
       "      <td>61.241041</td>\n",
       "      <td>4017.152993</td>\n",
       "      <td>0.257849</td>\n",
       "      <td>0.068072</td>\n",
       "      <td>3.189891e+04</td>\n",
       "      <td>1.253283e+04</td>\n",
       "      <td>1.014948</td>\n",
       "    </tr>\n",
       "    <tr>\n",
       "      <th>50%</th>\n",
       "      <td>76.181029</td>\n",
       "      <td>787.597656</td>\n",
       "      <td>62.972445</td>\n",
       "      <td>25.520542</td>\n",
       "      <td>40.249355</td>\n",
       "      <td>0.539474</td>\n",
       "      <td>0.189189</td>\n",
       "      <td>41.015625</td>\n",
       "      <td>28.430870</td>\n",
       "      <td>82.681692</td>\n",
       "      <td>7471.498163</td>\n",
       "      <td>0.333648</td>\n",
       "      <td>0.092625</td>\n",
       "      <td>6.763827e+04</td>\n",
       "      <td>3.046672e+04</td>\n",
       "      <td>2.352720</td>\n",
       "    </tr>\n",
       "    <tr>\n",
       "      <th>75%</th>\n",
       "      <td>87.186324</td>\n",
       "      <td>870.573317</td>\n",
       "      <td>83.935984</td>\n",
       "      <td>37.667085</td>\n",
       "      <td>57.918097</td>\n",
       "      <td>0.693333</td>\n",
       "      <td>0.363636</td>\n",
       "      <td>58.593750</td>\n",
       "      <td>40.748777</td>\n",
       "      <td>109.284867</td>\n",
       "      <td>13641.033008</td>\n",
       "      <td>0.463232</td>\n",
       "      <td>0.119235</td>\n",
       "      <td>1.308992e+05</td>\n",
       "      <td>7.020529e+04</td>\n",
       "      <td>4.928540</td>\n",
       "    </tr>\n",
       "    <tr>\n",
       "      <th>max</th>\n",
       "      <td>241.678322</td>\n",
       "      <td>1184.218750</td>\n",
       "      <td>233.234203</td>\n",
       "      <td>227.910152</td>\n",
       "      <td>333.036927</td>\n",
       "      <td>1.000000</td>\n",
       "      <td>1.000000</td>\n",
       "      <td>175.781250</td>\n",
       "      <td>233.695444</td>\n",
       "      <td>273.647490</td>\n",
       "      <td>175691.467479</td>\n",
       "      <td>1.817113</td>\n",
       "      <td>1.637018</td>\n",
       "      <td>1.185414e+47</td>\n",
       "      <td>2.548724e+50</td>\n",
       "      <td>86.421220</td>\n",
       "    </tr>\n",
       "  </tbody>\n",
       "</table>\n",
       "</div>"
      ],
      "text/plain": [
       "               bpm          ibi         sdnn         sdsd        rmssd  \\\n",
       "count  3199.000000  3199.000000  3199.000000  3199.000000  3199.000000   \n",
       "mean     80.662209   778.932925    68.214313    30.405282    47.280005   \n",
       "std      19.495826   155.005556    29.983841    19.748978    31.545604   \n",
       "min      50.666315   248.263889    11.424330     0.000000     4.360596   \n",
       "25%      68.920100   688.181323    47.441935    17.641069    27.012776   \n",
       "50%      76.181029   787.597656    62.972445    25.520542    40.249355   \n",
       "75%      87.186324   870.573317    83.935984    37.667085    57.918097   \n",
       "max     241.678322  1184.218750   233.234203   227.910152   333.036927   \n",
       "\n",
       "             pnn20        pnn50       hr_mad          sd1          sd2  \\\n",
       "count  3199.000000  3199.000000  3199.000000  3199.000000  3199.000000   \n",
       "mean      0.506018     0.235460    45.479300    33.246691    88.592962   \n",
       "std       0.235930     0.201243    23.294007    21.890124    38.379289   \n",
       "min       0.000000     0.000000     7.812500     0.000000     0.000000   \n",
       "25%       0.338710     0.065789    29.296875    19.044313    61.241041   \n",
       "50%       0.539474     0.189189    41.015625    28.430870    82.681692   \n",
       "75%       0.693333     0.363636    58.593750    40.748777   109.284867   \n",
       "max       1.000000     1.000000   175.781250   233.695444   273.647490   \n",
       "\n",
       "                   s      sd1/sd2  breathingrate            lf            hf  \\\n",
       "count    3199.000000  3199.000000    3199.000000  3.199000e+03  3.199000e+03   \n",
       "mean    10932.294375     0.373138       0.120212  3.705577e+43  7.967254e+46   \n",
       "std     11800.780974     0.163020       0.106801  2.095863e+45  4.506255e+48   \n",
       "min         0.000000     0.083261       0.040235  0.000000e+00  0.000000e+00   \n",
       "25%      4017.152993     0.257849       0.068072  3.189891e+04  1.253283e+04   \n",
       "50%      7471.498163     0.333648       0.092625  6.763827e+04  3.046672e+04   \n",
       "75%     13641.033008     0.463232       0.119235  1.308992e+05  7.020529e+04   \n",
       "max    175691.467479     1.817113       1.637018  1.185414e+47  2.548724e+50   \n",
       "\n",
       "             lf/hf  \n",
       "count  3199.000000  \n",
       "mean      3.994220  \n",
       "std       5.624331  \n",
       "min       0.000000  \n",
       "25%       1.014948  \n",
       "50%       2.352720  \n",
       "75%       4.928540  \n",
       "max      86.421220  "
      ]
     },
     "execution_count": 6,
     "metadata": {},
     "output_type": "execute_result"
    }
   ],
   "source": [
    "ecg_expert.describe()"
   ]
  },
  {
   "cell_type": "code",
   "execution_count": 34,
   "metadata": {},
   "outputs": [],
   "source": [
    "def class_to_number(labels):\n",
    "    # This function converts classes from categories to numbers, e.g. \"Base\" to 0, \"Fun\" to 1, etc.\n",
    "    classes = np.unique(labels)\n",
    "    for c in range(len(classes)):\n",
    "        labels[labels == classes[c]] = c    \n",
    "\n",
    "    return np.array(labels, dtype=int)"
   ]
  },
  {
   "cell_type": "code",
   "execution_count": 35,
   "metadata": {},
   "outputs": [],
   "source": [
    "def one_hot_encoding(labels, num_classes):\n",
    "    # This function performs one hot encoding for labels\n",
    "    if type(labels[0]) == str:\n",
    "        labels = class_to_number(labels)\n",
    "    elif type(labels[0]) == float:\n",
    "        labels = int(labels)\n",
    "    Y = np.eye(num_classes)[labels]\n",
    "    \n",
    "    return Y"
   ]
  },
  {
   "cell_type": "code",
   "execution_count": 36,
   "metadata": {},
   "outputs": [],
   "source": [
    "train_participants = ['S2', 'S3', 'S4', 'S5', 'S6', 'S7', 'S8', 'S9', 'S10', 'S11', 'S13', 'S14']\n",
    "test_participants  = ['S15', 'S16', 'S17']"
   ]
  },
  {
   "cell_type": "code",
   "execution_count": 37,
   "metadata": {},
   "outputs": [],
   "source": [
    "# Subsample indices for each set\n",
    "train_idx = ecg_expert[ecg_expert.pid.isin(train_participants)].index\n",
    "test_idx = ecg_expert[ecg_expert.pid.isin(test_participants)].index"
   ]
  },
  {
   "cell_type": "code",
   "execution_count": 38,
   "metadata": {},
   "outputs": [],
   "source": [
    "# Split data\n",
    "X_train = ecg_expert.loc[train_idx].iloc[:,2:].to_numpy()    # iloc[:,2:] drops first two columns (pid and lab)\n",
    "y_train = ecg_expert.loc[train_idx].lab.to_numpy()\n",
    "y_train = class_to_number(y_train)"
   ]
  },
  {
   "cell_type": "code",
   "execution_count": 39,
   "metadata": {},
   "outputs": [],
   "source": [
    "\n",
    "X_test  = ecg_expert.loc[test_idx].iloc[:,2:].to_numpy()\n",
    "y_test  = ecg_expert.loc[test_idx].lab.to_numpy()\n",
    "y_test  = class_to_number(y_test)"
   ]
  },
  {
   "cell_type": "code",
   "execution_count": 40,
   "metadata": {},
   "outputs": [],
   "source": [
    "# Normalize data\n",
    "scaler = StandardScaler()\n",
    "X_train_norm = scaler.fit_transform(X_train)\n",
    "X_test_norm  = scaler.transform(X_test)"
   ]
  },
  {
   "cell_type": "code",
   "execution_count": 41,
   "metadata": {},
   "outputs": [],
   "source": [
    "# Define classifier (SVM for classification) with default parameters\n",
    "clf = SVC()\n",
    "\n",
    "# Fit it to train data\n",
    "clf.fit(X_train_norm, y_train)\n",
    "\n",
    "# Make predictions\n",
    "pred_classical = clf.predict(X_test_norm)"
   ]
  },
  {
   "cell_type": "code",
   "execution_count": 42,
   "metadata": {},
   "outputs": [
    {
     "name": "stdout",
     "output_type": "stream",
     "text": [
      "Accuracy (SVM):     0.739\n",
      "F1 score (SVM):     0.552\n",
      "UAR (SVM):          0.525\n"
     ]
    }
   ],
   "source": [
    "print('Accuracy (SVM):    ', (np.round(accuracy_score(pred_classical, y_test), 3)))\n",
    "print('F1 score (SVM):    ', (np.round(f1_score(pred_classical, y_test, average = 'macro'), 3)))\n",
    "print('UAR (SVM):         ', (np.round(recall_score(pred_classical, y_test, average = 'macro'), 3)))"
   ]
  },
  {
   "cell_type": "code",
   "execution_count": 43,
   "metadata": {},
   "outputs": [],
   "source": [
    "from sklearn.neighbors import KNeighborsClassifier\n",
    "from sklearn.ensemble import RandomForestClassifier"
   ]
  },
  {
   "cell_type": "code",
   "execution_count": 44,
   "metadata": {},
   "outputs": [],
   "source": [
    "# Define classifier (SVM for classification) with default parameters\n",
    "KNN = KNeighborsClassifier()\n",
    "\n",
    "# Fit it to train data\n",
    "KNN.fit(X_train_norm, y_train)\n",
    "\n",
    "# Make predictions\n",
    "pred_classical = KNN.predict(X_test_norm)"
   ]
  },
  {
   "cell_type": "code",
   "execution_count": 45,
   "metadata": {},
   "outputs": [
    {
     "name": "stdout",
     "output_type": "stream",
     "text": [
      "Accuracy (KNN):     0.618\n",
      "F1 score (KNN):     0.51\n",
      "UAR (KNN):          0.502\n"
     ]
    }
   ],
   "source": [
    "print('Accuracy (KNN):    ', (np.round(accuracy_score(pred_classical, y_test), 3)))\n",
    "print('F1 score (KNN):    ', (np.round(f1_score(pred_classical, y_test, average = 'macro'), 3)))\n",
    "print('UAR (KNN):         ', (np.round(recall_score(pred_classical, y_test, average = 'macro'), 3)))"
   ]
  },
  {
   "cell_type": "code",
   "execution_count": 46,
   "metadata": {},
   "outputs": [],
   "source": [
    "# Define classifier (SVM for classification) with default parameters\n",
    "randomClassifier = RandomForestClassifier()\n",
    "\n",
    "# Fit it to train data\n",
    "randomClassifier.fit(X_train_norm, y_train)\n",
    "\n",
    "# Make predictions\n",
    "pred_classical = randomClassifier.predict(X_test_norm)"
   ]
  },
  {
   "cell_type": "code",
   "execution_count": 47,
   "metadata": {},
   "outputs": [
    {
     "name": "stdout",
     "output_type": "stream",
     "text": [
      "Accuracy (Random Forest):     0.594\n",
      "F1 score (Random Forest):     0.515\n",
      "UAR (Random Forest):          0.515\n"
     ]
    }
   ],
   "source": [
    "print('Accuracy (Random Forest):    ', (np.round(accuracy_score(pred_classical, y_test), 3)))\n",
    "print('F1 score (Random Forest):    ', (np.round(f1_score(pred_classical, y_test, average = 'macro'), 3)))\n",
    "print('UAR (Random Forest):         ', (np.round(recall_score(pred_classical, y_test, average = 'macro'), 3)))"
   ]
  },
  {
   "cell_type": "markdown",
   "metadata": {},
   "source": [
    "#### Fully Supervised Deep Learning Approach"
   ]
  },
  {
   "cell_type": "markdown",
   "metadata": {},
   "source": [
    "#### Using CNN to recognize affect. \n"
   ]
  },
  {
   "cell_type": "code",
   "execution_count": 48,
   "metadata": {},
   "outputs": [],
   "source": [
    "# Function reads the data according to participants list taken as a parameter\n",
    "def read_data(participants):\n",
    "    X = []\n",
    "    \n",
    "    for filename in train_participants:\n",
    "        temp = pd.read_csv('data/{}.csv'.format(filename), index_col=0)\n",
    "        X.append(temp)\n",
    "        \n",
    "    X = pd.concat(X, axis = 0)\n",
    "    y = X.lab.to_numpy()\n",
    "    y = class_to_number(y)\n",
    "    X = X.iloc[:,2:].to_numpy()\n",
    "    \n",
    "    return X, y"
   ]
  },
  {
   "cell_type": "code",
   "execution_count": 49,
   "metadata": {},
   "outputs": [],
   "source": [
    "# Define train and test sets\n",
    "train_participants = ['S2', 'S3', 'S4', 'S5', 'S6', 'S7', 'S8', 'S9', 'S10']\n",
    "devel_participants = ['S11', 'S13', 'S14']\n",
    "test_participants  = ['S15', 'S16', 'S17']"
   ]
  },
  {
   "cell_type": "code",
   "execution_count": 50,
   "metadata": {},
   "outputs": [],
   "source": [
    "# Read files for train and test participants\n",
    "X_train, y_train = read_data(train_participants)\n",
    "X_devel, y_devel = read_data(devel_participants)\n",
    "X_test, y_test = read_data(test_participants)"
   ]
  },
  {
   "cell_type": "code",
   "execution_count": 51,
   "metadata": {},
   "outputs": [],
   "source": [
    "# Normalize data\n",
    "scaler = StandardScaler()\n",
    "X_train_norm = scaler.fit_transform(X_train)\n",
    "X_devel_norm = scaler.transform(X_devel)\n",
    "X_test_norm  = scaler.transform(X_test)"
   ]
  },
  {
   "cell_type": "code",
   "execution_count": 52,
   "metadata": {},
   "outputs": [],
   "source": [
    "# Convert labels to one-hot\n",
    "y_train_one_hot = one_hot_encoding(y_train, 3)\n",
    "y_devel_one_hot = one_hot_encoding(y_devel, 3)\n",
    "y_test_one_hot = one_hot_encoding(y_test, 3)"
   ]
  },
  {
   "cell_type": "code",
   "execution_count": 53,
   "metadata": {},
   "outputs": [],
   "source": [
    "def create_graph(input_shape = 2560, num_classes = 3):\n",
    "    inputs = keras.Input(shape=(input_shape, 1))\n",
    "\n",
    "    # Conv1\n",
    "    x = layers.Conv1D(filters = 32, kernel_size = 32, strides = 1)(inputs)\n",
    "    x = layers.BatchNormalization()(x)\n",
    "    x = layers.Activation(layers.LeakyReLU())(x)\n",
    "\n",
    "    x = layers.Conv1D(filters = 32, kernel_size = 32, strides = 1)(x)\n",
    "    x = layers.BatchNormalization()(x)\n",
    "    x = layers.Activation(layers.LeakyReLU())(x)\n",
    "\n",
    "    x = layers.MaxPooling1D(pool_size = 8, strides = 2)(x)\n",
    "\n",
    "    # Conv2\n",
    "    x = layers.Conv1D(filters = 64, kernel_size = 16, strides = 1)(x)\n",
    "    x = layers.BatchNormalization()(x)\n",
    "    x = layers.Activation(layers.LeakyReLU())(x)\n",
    "\n",
    "    x = layers.Conv1D(filters = 64, kernel_size = 16, strides = 1)(x)\n",
    "    x = layers.BatchNormalization()(x)\n",
    "    x = layers.Activation(layers.LeakyReLU())(x)\n",
    "\n",
    "    x = layers.GlobalMaxPooling1D()(x)\n",
    "    x = layers.Flatten()(x)\n",
    "\n",
    "    # Head\n",
    "    x = layers.Dense(128)(x)\n",
    "    x = layers.Dropout(0.5)(x)\n",
    "    x = layers.Activation(layers.LeakyReLU())(x)\n",
    "    outputs = layers.Dense(num_classes, 'softmax')(x)\n",
    "  \n",
    "    return inputs, outputs"
   ]
  },
  {
   "cell_type": "code",
   "execution_count": 54,
   "metadata": {},
   "outputs": [],
   "source": [
    "# Creating a model\n",
    "inputs, outputs = create_graph(input_shape = 2560, num_classes = 3)\n",
    "model_fully_supervised = keras.Model(inputs, outputs)"
   ]
  },
  {
   "cell_type": "code",
   "execution_count": 55,
   "metadata": {},
   "outputs": [
    {
     "name": "stderr",
     "output_type": "stream",
     "text": [
      "c:\\Users\\laksh\\.conda\\envs\\GPU-ENV\\lib\\site-packages\\keras\\optimizer_v2\\adam.py:105: UserWarning: The `lr` argument is deprecated, use `learning_rate` instead.\n",
      "  super(Adam, self).__init__(name, **kwargs)\n"
     ]
    }
   ],
   "source": [
    "# Optimizer and callbacks \n",
    "# (to stop the training when the development loss does not decrease)\n",
    "opt = keras.optimizers.Adam(lr = 0.001)\n",
    "callback = tf.keras.callbacks.EarlyStopping(monitor = 'val_loss', patience = 10, restore_best_weights = True)"
   ]
  },
  {
   "cell_type": "code",
   "execution_count": 56,
   "metadata": {},
   "outputs": [],
   "source": [
    "# Compile and fit the model\n",
    "model_fully_supervised.compile(optimizer = opt, loss = 'categorical_crossentropy')"
   ]
  },
  {
   "cell_type": "code",
   "execution_count": 57,
   "metadata": {},
   "outputs": [
    {
     "name": "stdout",
     "output_type": "stream",
     "text": [
      "Model: \"model\"\n",
      "_________________________________________________________________\n",
      " Layer (type)                Output Shape              Param #   \n",
      "=================================================================\n",
      " input_1 (InputLayer)        [(None, 2560, 1)]         0         \n",
      "                                                                 \n",
      " conv1d (Conv1D)             (None, 2529, 32)          1056      \n",
      "                                                                 \n",
      " batch_normalization (BatchN  (None, 2529, 32)         128       \n",
      " ormalization)                                                   \n",
      "                                                                 \n",
      " activation (Activation)     (None, 2529, 32)          0         \n",
      "                                                                 \n",
      " conv1d_1 (Conv1D)           (None, 2498, 32)          32800     \n",
      "                                                                 \n",
      " batch_normalization_1 (Batc  (None, 2498, 32)         128       \n",
      " hNormalization)                                                 \n",
      "                                                                 \n",
      " activation_1 (Activation)   (None, 2498, 32)          0         \n",
      "                                                                 \n",
      " max_pooling1d (MaxPooling1D  (None, 1246, 32)         0         \n",
      " )                                                               \n",
      "                                                                 \n",
      " conv1d_2 (Conv1D)           (None, 1231, 64)          32832     \n",
      "                                                                 \n",
      " batch_normalization_2 (Batc  (None, 1231, 64)         256       \n",
      " hNormalization)                                                 \n",
      "                                                                 \n",
      " activation_2 (Activation)   (None, 1231, 64)          0         \n",
      "                                                                 \n",
      " conv1d_3 (Conv1D)           (None, 1216, 64)          65600     \n",
      "                                                                 \n",
      " batch_normalization_3 (Batc  (None, 1216, 64)         256       \n",
      " hNormalization)                                                 \n",
      "                                                                 \n",
      " activation_3 (Activation)   (None, 1216, 64)          0         \n",
      "                                                                 \n",
      " global_max_pooling1d (Globa  (None, 64)               0         \n",
      " lMaxPooling1D)                                                  \n",
      "                                                                 \n",
      " flatten (Flatten)           (None, 64)                0         \n",
      "                                                                 \n",
      " dense (Dense)               (None, 128)               8320      \n",
      "                                                                 \n",
      " dropout (Dropout)           (None, 128)               0         \n",
      "                                                                 \n",
      " activation_4 (Activation)   (None, 128)               0         \n",
      "                                                                 \n",
      " dense_1 (Dense)             (None, 3)                 387       \n",
      "                                                                 \n",
      "=================================================================\n",
      "Total params: 141,763\n",
      "Trainable params: 141,379\n",
      "Non-trainable params: 384\n",
      "_________________________________________________________________\n"
     ]
    }
   ],
   "source": [
    "model_fully_supervised.summary()"
   ]
  },
  {
   "cell_type": "code",
   "execution_count": 58,
   "metadata": {},
   "outputs": [
    {
     "name": "stdout",
     "output_type": "stream",
     "text": [
      "Epoch 1/100\n",
      "64/64 - 10s - loss: 1.3123 - val_loss: 0.9794 - 10s/epoch - 163ms/step\n",
      "Epoch 2/100\n",
      "64/64 - 2s - loss: 1.0255 - val_loss: 0.9392 - 2s/epoch - 32ms/step\n",
      "Epoch 3/100\n",
      "64/64 - 2s - loss: 0.9649 - val_loss: 0.8943 - 2s/epoch - 31ms/step\n",
      "Epoch 4/100\n",
      "64/64 - 2s - loss: 0.8893 - val_loss: 0.8428 - 2s/epoch - 31ms/step\n",
      "Epoch 5/100\n",
      "64/64 - 2s - loss: 0.7673 - val_loss: 0.7098 - 2s/epoch - 30ms/step\n",
      "Epoch 6/100\n",
      "64/64 - 2s - loss: 0.6612 - val_loss: 0.6783 - 2s/epoch - 29ms/step\n",
      "Epoch 7/100\n",
      "64/64 - 2s - loss: 0.6476 - val_loss: 0.4923 - 2s/epoch - 29ms/step\n",
      "Epoch 8/100\n",
      "64/64 - 2s - loss: 0.5303 - val_loss: 0.4655 - 2s/epoch - 29ms/step\n",
      "Epoch 9/100\n",
      "64/64 - 2s - loss: 0.5438 - val_loss: 0.5420 - 2s/epoch - 29ms/step\n",
      "Epoch 10/100\n",
      "64/64 - 2s - loss: 0.4984 - val_loss: 0.3964 - 2s/epoch - 29ms/step\n",
      "Epoch 11/100\n",
      "64/64 - 2s - loss: 0.4658 - val_loss: 0.5899 - 2s/epoch - 29ms/step\n",
      "Epoch 12/100\n",
      "64/64 - 2s - loss: 0.4481 - val_loss: 0.3140 - 2s/epoch - 29ms/step\n",
      "Epoch 13/100\n",
      "64/64 - 2s - loss: 0.4749 - val_loss: 0.3416 - 2s/epoch - 30ms/step\n",
      "Epoch 14/100\n",
      "64/64 - 2s - loss: 0.4085 - val_loss: 0.3101 - 2s/epoch - 31ms/step\n",
      "Epoch 15/100\n",
      "64/64 - 2s - loss: 0.3763 - val_loss: 0.3202 - 2s/epoch - 30ms/step\n",
      "Epoch 16/100\n",
      "64/64 - 2s - loss: 0.4164 - val_loss: 0.3614 - 2s/epoch - 30ms/step\n",
      "Epoch 17/100\n",
      "64/64 - 2s - loss: 0.3027 - val_loss: 0.3391 - 2s/epoch - 30ms/step\n",
      "Epoch 18/100\n",
      "64/64 - 2s - loss: 0.3201 - val_loss: 0.3166 - 2s/epoch - 30ms/step\n",
      "Epoch 19/100\n",
      "64/64 - 2s - loss: 0.3380 - val_loss: 0.3306 - 2s/epoch - 30ms/step\n",
      "Epoch 20/100\n",
      "64/64 - 2s - loss: 0.3421 - val_loss: 0.2089 - 2s/epoch - 32ms/step\n",
      "Epoch 21/100\n",
      "64/64 - 2s - loss: 0.2764 - val_loss: 0.3230 - 2s/epoch - 31ms/step\n",
      "Epoch 22/100\n",
      "64/64 - 2s - loss: 0.3232 - val_loss: 0.2297 - 2s/epoch - 30ms/step\n",
      "Epoch 23/100\n",
      "64/64 - 2s - loss: 0.3162 - val_loss: 0.2044 - 2s/epoch - 30ms/step\n",
      "Epoch 24/100\n",
      "64/64 - 2s - loss: 0.2261 - val_loss: 0.2781 - 2s/epoch - 30ms/step\n",
      "Epoch 25/100\n",
      "64/64 - 2s - loss: 0.5372 - val_loss: 0.3354 - 2s/epoch - 30ms/step\n",
      "Epoch 26/100\n",
      "64/64 - 2s - loss: 0.3417 - val_loss: 0.3731 - 2s/epoch - 30ms/step\n",
      "Epoch 27/100\n",
      "64/64 - 2s - loss: 0.3085 - val_loss: 0.2467 - 2s/epoch - 31ms/step\n",
      "Epoch 28/100\n",
      "64/64 - 2s - loss: 0.3326 - val_loss: 0.3312 - 2s/epoch - 31ms/step\n",
      "Epoch 29/100\n",
      "64/64 - 2s - loss: 0.3801 - val_loss: 0.2979 - 2s/epoch - 31ms/step\n",
      "Epoch 30/100\n",
      "64/64 - 2s - loss: 0.2773 - val_loss: 0.1740 - 2s/epoch - 33ms/step\n",
      "Epoch 31/100\n",
      "64/64 - 2s - loss: 0.2203 - val_loss: 0.2694 - 2s/epoch - 32ms/step\n",
      "Epoch 32/100\n",
      "64/64 - 2s - loss: 0.2618 - val_loss: 0.3817 - 2s/epoch - 33ms/step\n",
      "Epoch 33/100\n",
      "64/64 - 2s - loss: 0.2681 - val_loss: 0.2428 - 2s/epoch - 33ms/step\n",
      "Epoch 34/100\n",
      "64/64 - 2s - loss: 0.2162 - val_loss: 0.1361 - 2s/epoch - 33ms/step\n",
      "Epoch 35/100\n",
      "64/64 - 2s - loss: 0.1831 - val_loss: 0.2424 - 2s/epoch - 32ms/step\n",
      "Epoch 36/100\n",
      "64/64 - 2s - loss: 0.2135 - val_loss: 0.1298 - 2s/epoch - 33ms/step\n",
      "Epoch 37/100\n",
      "64/64 - 2s - loss: 0.1905 - val_loss: 0.1354 - 2s/epoch - 33ms/step\n",
      "Epoch 38/100\n",
      "64/64 - 2s - loss: 0.1966 - val_loss: 0.1696 - 2s/epoch - 33ms/step\n",
      "Epoch 39/100\n",
      "64/64 - 2s - loss: 0.2184 - val_loss: 0.2214 - 2s/epoch - 33ms/step\n",
      "Epoch 40/100\n",
      "64/64 - 2s - loss: 0.1886 - val_loss: 0.1185 - 2s/epoch - 35ms/step\n",
      "Epoch 41/100\n",
      "64/64 - 2s - loss: 0.1656 - val_loss: 0.0975 - 2s/epoch - 34ms/step\n",
      "Epoch 42/100\n",
      "64/64 - 2s - loss: 0.1598 - val_loss: 0.1760 - 2s/epoch - 34ms/step\n",
      "Epoch 43/100\n",
      "64/64 - 2s - loss: 0.1501 - val_loss: 0.0968 - 2s/epoch - 36ms/step\n",
      "Epoch 44/100\n",
      "64/64 - 2s - loss: 0.1581 - val_loss: 0.1521 - 2s/epoch - 34ms/step\n",
      "Epoch 45/100\n",
      "64/64 - 2s - loss: 0.1621 - val_loss: 0.1586 - 2s/epoch - 35ms/step\n",
      "Epoch 46/100\n",
      "64/64 - 2s - loss: 0.1109 - val_loss: 0.1784 - 2s/epoch - 34ms/step\n",
      "Epoch 47/100\n",
      "64/64 - 2s - loss: 0.1494 - val_loss: 0.1527 - 2s/epoch - 35ms/step\n",
      "Epoch 48/100\n",
      "64/64 - 2s - loss: 0.3767 - val_loss: 0.2319 - 2s/epoch - 35ms/step\n",
      "Epoch 49/100\n",
      "64/64 - 2s - loss: 0.2016 - val_loss: 0.2083 - 2s/epoch - 36ms/step\n",
      "Epoch 50/100\n",
      "64/64 - 2s - loss: 0.1511 - val_loss: 0.0933 - 2s/epoch - 36ms/step\n",
      "Epoch 51/100\n",
      "64/64 - 2s - loss: 0.1262 - val_loss: 0.2100 - 2s/epoch - 36ms/step\n",
      "Epoch 52/100\n",
      "64/64 - 2s - loss: 0.2257 - val_loss: 0.0970 - 2s/epoch - 36ms/step\n",
      "Epoch 53/100\n",
      "64/64 - 2s - loss: 0.1630 - val_loss: 0.1166 - 2s/epoch - 35ms/step\n",
      "Epoch 54/100\n",
      "64/64 - 2s - loss: 0.1298 - val_loss: 0.0981 - 2s/epoch - 35ms/step\n",
      "Epoch 55/100\n",
      "64/64 - 2s - loss: 0.1226 - val_loss: 0.0950 - 2s/epoch - 35ms/step\n",
      "Epoch 56/100\n",
      "64/64 - 2s - loss: 0.1144 - val_loss: 0.0866 - 2s/epoch - 35ms/step\n",
      "Epoch 57/100\n",
      "64/64 - 2s - loss: 0.2928 - val_loss: 0.2825 - 2s/epoch - 35ms/step\n",
      "Epoch 58/100\n",
      "64/64 - 2s - loss: 0.2029 - val_loss: 0.1780 - 2s/epoch - 38ms/step\n",
      "Epoch 59/100\n",
      "64/64 - 2s - loss: 0.1708 - val_loss: 0.0911 - 2s/epoch - 36ms/step\n",
      "Epoch 60/100\n",
      "64/64 - 2s - loss: 0.1251 - val_loss: 0.0957 - 2s/epoch - 36ms/step\n",
      "Epoch 61/100\n",
      "64/64 - 2s - loss: 0.0945 - val_loss: 0.0714 - 2s/epoch - 36ms/step\n",
      "Epoch 62/100\n",
      "64/64 - 2s - loss: 0.1116 - val_loss: 0.2240 - 2s/epoch - 36ms/step\n",
      "Epoch 63/100\n",
      "64/64 - 2s - loss: 0.1083 - val_loss: 0.0772 - 2s/epoch - 36ms/step\n",
      "Epoch 64/100\n",
      "64/64 - 2s - loss: 0.2529 - val_loss: 0.0967 - 2s/epoch - 36ms/step\n",
      "Epoch 65/100\n",
      "64/64 - 2s - loss: 0.2114 - val_loss: 0.0958 - 2s/epoch - 36ms/step\n",
      "Epoch 66/100\n",
      "64/64 - 2s - loss: 0.1006 - val_loss: 0.1076 - 2s/epoch - 36ms/step\n",
      "Epoch 67/100\n",
      "64/64 - 2s - loss: 0.1571 - val_loss: 0.1686 - 2s/epoch - 36ms/step\n",
      "Epoch 68/100\n",
      "64/64 - 2s - loss: 0.1854 - val_loss: 0.1280 - 2s/epoch - 36ms/step\n",
      "Epoch 69/100\n",
      "64/64 - 2s - loss: 0.2322 - val_loss: 0.1161 - 2s/epoch - 37ms/step\n",
      "Epoch 70/100\n",
      "64/64 - 2s - loss: 0.1565 - val_loss: 0.0817 - 2s/epoch - 36ms/step\n",
      "Epoch 71/100\n",
      "64/64 - 2s - loss: 0.1060 - val_loss: 0.1032 - 2s/epoch - 36ms/step\n"
     ]
    }
   ],
   "source": [
    "history_fs = model_fully_supervised.fit(X_train_norm, \n",
    "                                        y_train_one_hot, \n",
    "                                        validation_data = (X_devel_norm, y_devel_one_hot), \n",
    "                                        callbacks = [callback], \n",
    "                                        epochs = 100, \n",
    "                                        batch_size = 32, \n",
    "                                        verbose = 2)"
   ]
  },
  {
   "cell_type": "code",
   "execution_count": 59,
   "metadata": {},
   "outputs": [
    {
     "data": {
      "image/png": "[encoded data removed]",
      "text/plain": [
       "<Figure size 640x480 with 1 Axes>"
      ]
     },
     "metadata": {},
     "output_type": "display_data"
    }
   ],
   "source": [
    "plt.plot(history_fs.history['loss'])\n",
    "plt.plot(history_fs.history['val_loss'])\n",
    "plt.show()\n"
   ]
  },
  {
   "cell_type": "code",
   "execution_count": 60,
   "metadata": {},
   "outputs": [],
   "source": [
    "pred_fully_supervised = model_fully_supervised.predict(X_test_norm)"
   ]
  },
  {
   "cell_type": "code",
   "execution_count": 61,
   "metadata": {},
   "outputs": [
    {
     "name": "stdout",
     "output_type": "stream",
     "text": [
      "Accuracy:     0.977\n",
      "F1 score:     0.971\n",
      "UAR:          0.969\n"
     ]
    }
   ],
   "source": [
    "print('Accuracy:    ', (np.round(accuracy_score(np.argmax(pred_fully_supervised, axis = 1), y_test), 3)))\n",
    "print('F1 score:    ', (np.round(f1_score(np.argmax(pred_fully_supervised, axis = 1), y_test, average = 'macro'), 3)))\n",
    "print('UAR:         ', (np.round(recall_score(np.argmax(pred_fully_supervised, axis = 1), y_test, average = 'macro'), 3)))"
   ]
  },
  {
   "cell_type": "markdown",
   "metadata": {},
   "source": [
    "### Self supervised + Transfer learning\n",
    "\n",
    "Using self-supervised approach to learn representations from data (pretext model) and then apply transfer learning to use these representations for the target task (downstream model). \n",
    "\n",
    "First, we will need a way to create a proxy task for the model to train on. In our case it will be classification of transformation type applied to the signal (if any). \n",
    "\n",
    "We apply one of these transormations: horizontal flip, addition of noise, scaling by a certain factor."
   ]
  },
  {
   "cell_type": "code",
   "execution_count": 62,
   "metadata": {},
   "outputs": [],
   "source": [
    "# Horizontal Flipping\n",
    "def hor_filp(signal):\n",
    "    hor_flipped = np.flip(signal)\n",
    "    return hor_flipped"
   ]
  },
  {
   "cell_type": "code",
   "execution_count": 63,
   "metadata": {},
   "outputs": [],
   "source": [
    "# adding noise    \n",
    "# created using: https://stackoverflow.com/a/53688043/10700812 \n",
    "\n",
    "def add_noise_with_SNR(signal, noise_amount):\n",
    "    target_snr_db = noise_amount #20\n",
    "    x_watts = signal ** 2                       # Calculate signal power and convert to dB \n",
    "    \n",
    "    sig_avg_watts = np.mean(x_watts)\n",
    "    sig_avg_db = 10 * np.log10(sig_avg_watts)   # Calculate noise then convert to watts\n",
    "    \n",
    "    noise_avg_db = sig_avg_db - target_snr_db\n",
    "    noise_avg_watts = 10 ** (noise_avg_db / 10)\n",
    "    mean_noise = 0\n",
    "    \n",
    "    noise_volts = np.random.normal(mean_noise, np.sqrt(noise_avg_watts), len(x_watts))     # Generate an sample of white noise\n",
    "    \n",
    "    noised_signal = signal + noise_volts        # noise added signal\n",
    "\n",
    "    return noised_signal "
   ]
  },
  {
   "cell_type": "code",
   "execution_count": 64,
   "metadata": {},
   "outputs": [],
   "source": [
    "# Signal Scaling\n",
    "def scaled(signal, factor):\n",
    "    scaled_signal = signal * factor\n",
    "    return scaled_signal"
   ]
  },
  {
   "cell_type": "code",
   "execution_count": 65,
   "metadata": {},
   "outputs": [],
   "source": [
    "# Performs transformations and creates artificial labels.\n",
    "def transform_data(X):\n",
    "    X_noised = np.zeros(X.shape)\n",
    "    X_scaled = np.zeros(X.shape)\n",
    "    X_flipped = np.zeros(X.shape)\n",
    "\n",
    "    for i in range(X.shape[0]):\n",
    "        X_noised[i,:] = add_noise_with_SNR(X[i,:], 20)\n",
    "        X_scaled[i,:] = scaled(X[i,:], 1.1)\n",
    "        X_flipped[i,:] = hor_filp(X[i,:])\n",
    "    \n",
    "    full_data = np.concatenate((X, X_noised, X_scaled, X_flipped))\n",
    "    full_labels = np.concatenate((np.full(X.shape[0], 0),\n",
    "                                  np.full(X.shape[0], 1),\n",
    "                                  np.full(X.shape[0], 2),\n",
    "                                  np.full(X.shape[0], 3)))\n",
    "    \n",
    "    return full_data, full_labels"
   ]
  },
  {
   "cell_type": "code",
   "execution_count": 66,
   "metadata": {},
   "outputs": [],
   "source": [
    "# Transform data and get artificial labels\n",
    "X_train_transformed, y_train_transformed = transform_data(X_train_norm)\n",
    "X_devel_transformed, y_devel_transformed = transform_data(X_devel_norm)"
   ]
  },
  {
   "cell_type": "code",
   "execution_count": 67,
   "metadata": {},
   "outputs": [],
   "source": [
    "# Perform one hot encoding for labels\n",
    "y_train_transformed_one_hot = one_hot_encoding(y_train_transformed, 4)\n",
    "y_devel_transformed_one_hot = one_hot_encoding(y_devel_transformed, 4)"
   ]
  },
  {
   "cell_type": "code",
   "execution_count": 68,
   "metadata": {},
   "outputs": [],
   "source": [
    "# Create a model\n",
    "inputs, outputs = create_graph(input_shape = 2560, num_classes = 4)\n",
    "model_pretext = keras.Model(inputs, outputs)"
   ]
  },
  {
   "cell_type": "code",
   "execution_count": 69,
   "metadata": {},
   "outputs": [],
   "source": [
    "# Optimizer and callbacks (to stop the training when the development loss does not decrease)\n",
    "opt = keras.optimizers.Adam(learning_rate = 0.001)\n",
    "callback = tf.keras.callbacks.EarlyStopping(monitor = 'val_loss', \n",
    "                                            patience = 10, \n",
    "                                            restore_best_weights = True)"
   ]
  },
  {
   "cell_type": "code",
   "execution_count": 70,
   "metadata": {},
   "outputs": [],
   "source": [
    "# Compiling the model\n",
    "model_pretext.compile(optimizer = opt, loss = 'categorical_crossentropy')"
   ]
  },
  {
   "cell_type": "code",
   "execution_count": 71,
   "metadata": {},
   "outputs": [
    {
     "name": "stdout",
     "output_type": "stream",
     "text": [
      "Model: \"model_1\"\n",
      "_________________________________________________________________\n",
      " Layer (type)                Output Shape              Param #   \n",
      "=================================================================\n",
      " input_2 (InputLayer)        [(None, 2560, 1)]         0         \n",
      "                                                                 \n",
      " conv1d_4 (Conv1D)           (None, 2529, 32)          1056      \n",
      "                                                                 \n",
      " batch_normalization_4 (Batc  (None, 2529, 32)         128       \n",
      " hNormalization)                                                 \n",
      "                                                                 \n",
      " activation_5 (Activation)   (None, 2529, 32)          0         \n",
      "                                                                 \n",
      " conv1d_5 (Conv1D)           (None, 2498, 32)          32800     \n",
      "                                                                 \n",
      " batch_normalization_5 (Batc  (None, 2498, 32)         128       \n",
      " hNormalization)                                                 \n",
      "                                                                 \n",
      " activation_6 (Activation)   (None, 2498, 32)          0         \n",
      "                                                                 \n",
      " max_pooling1d_1 (MaxPooling  (None, 1246, 32)         0         \n",
      " 1D)                                                             \n",
      "                                                                 \n",
      " conv1d_6 (Conv1D)           (None, 1231, 64)          32832     \n",
      "                                                                 \n",
      " batch_normalization_6 (Batc  (None, 1231, 64)         256       \n",
      " hNormalization)                                                 \n",
      "                                                                 \n",
      " activation_7 (Activation)   (None, 1231, 64)          0         \n",
      "                                                                 \n",
      " conv1d_7 (Conv1D)           (None, 1216, 64)          65600     \n",
      "                                                                 \n",
      " batch_normalization_7 (Batc  (None, 1216, 64)         256       \n",
      " hNormalization)                                                 \n",
      "                                                                 \n",
      " activation_8 (Activation)   (None, 1216, 64)          0         \n",
      "                                                                 \n",
      " global_max_pooling1d_1 (Glo  (None, 64)               0         \n",
      " balMaxPooling1D)                                                \n",
      "                                                                 \n",
      " flatten_1 (Flatten)         (None, 64)                0         \n",
      "                                                                 \n",
      " dense_2 (Dense)             (None, 128)               8320      \n",
      "                                                                 \n",
      " dropout_1 (Dropout)         (None, 128)               0         \n",
      "                                                                 \n",
      " activation_9 (Activation)   (None, 128)               0         \n",
      "                                                                 \n",
      " dense_3 (Dense)             (None, 4)                 516       \n",
      "                                                                 \n",
      "=================================================================\n",
      "Total params: 141,892\n",
      "Trainable params: 141,508\n",
      "Non-trainable params: 384\n",
      "_________________________________________________________________\n"
     ]
    }
   ],
   "source": [
    "model_pretext.summary()"
   ]
  },
  {
   "cell_type": "code",
   "execution_count": 72,
   "metadata": {},
   "outputs": [
    {
     "name": "stdout",
     "output_type": "stream",
     "text": [
      "Epoch 1/100\n",
      "253/253 [==============================] - 12s 40ms/step - loss: 1.0356 - val_loss: 1.2647\n",
      "Epoch 2/100\n",
      "253/253 [==============================] - 9s 36ms/step - loss: 0.4035 - val_loss: 0.4058\n",
      "Epoch 3/100\n",
      "253/253 [==============================] - 10s 38ms/step - loss: 0.3525 - val_loss: 0.3703\n",
      "Epoch 4/100\n",
      "253/253 [==============================] - 10s 38ms/step - loss: 0.3209 - val_loss: 0.4606\n",
      "Epoch 5/100\n",
      "253/253 [==============================] - 10s 40ms/step - loss: 0.3113 - val_loss: 0.3641\n",
      "Epoch 6/100\n",
      "253/253 [==============================] - 10s 40ms/step - loss: 0.3216 - val_loss: 0.3783\n",
      "Epoch 7/100\n",
      "253/253 [==============================] - 10s 41ms/step - loss: 0.2685 - val_loss: 0.2638\n",
      "Epoch 8/100\n",
      "253/253 [==============================] - 9s 37ms/step - loss: 0.2427 - val_loss: 0.5398\n",
      "Epoch 9/100\n",
      "253/253 [==============================] - 10s 38ms/step - loss: 0.2132 - val_loss: 0.3198\n",
      "Epoch 10/100\n",
      "253/253 [==============================] - 9s 38ms/step - loss: 0.2064 - val_loss: 1.2131\n",
      "Epoch 11/100\n",
      "253/253 [==============================] - 9s 37ms/step - loss: 0.1724 - val_loss: 0.1243\n",
      "Epoch 12/100\n",
      "253/253 [==============================] - 10s 38ms/step - loss: 0.1440 - val_loss: 0.1080\n",
      "Epoch 13/100\n",
      "253/253 [==============================] - 11s 43ms/step - loss: 0.1401 - val_loss: 0.9121\n",
      "Epoch 14/100\n",
      "253/253 [==============================] - 10s 41ms/step - loss: 0.1255 - val_loss: 0.2041\n",
      "Epoch 15/100\n",
      "253/253 [==============================] - 10s 40ms/step - loss: 0.1296 - val_loss: 0.4158\n",
      "Epoch 16/100\n",
      "253/253 [==============================] - 11s 42ms/step - loss: 0.1155 - val_loss: 0.7738\n",
      "Epoch 17/100\n",
      "253/253 [==============================] - 11s 44ms/step - loss: 0.0956 - val_loss: 0.0565\n",
      "Epoch 18/100\n",
      "253/253 [==============================] - 11s 42ms/step - loss: 0.1181 - val_loss: 0.2068\n",
      "Epoch 19/100\n",
      "253/253 [==============================] - 11s 42ms/step - loss: 0.1094 - val_loss: 0.1585\n",
      "Epoch 20/100\n",
      "253/253 [==============================] - 10s 40ms/step - loss: 0.1075 - val_loss: 0.7525\n",
      "Epoch 21/100\n",
      "253/253 [==============================] - 10s 39ms/step - loss: 0.1005 - val_loss: 0.1038\n",
      "Epoch 22/100\n",
      "253/253 [==============================] - 10s 41ms/step - loss: 0.0941 - val_loss: 0.0905\n",
      "Epoch 23/100\n",
      "253/253 [==============================] - 10s 41ms/step - loss: 0.0780 - val_loss: 0.0496\n",
      "Epoch 24/100\n",
      "253/253 [==============================] - 10s 41ms/step - loss: 0.0890 - val_loss: 0.2320\n",
      "Epoch 25/100\n",
      "253/253 [==============================] - 10s 41ms/step - loss: 0.0907 - val_loss: 0.0464\n",
      "Epoch 26/100\n",
      "253/253 [==============================] - 11s 44ms/step - loss: 0.0774 - val_loss: 0.0402\n",
      "Epoch 27/100\n",
      "253/253 [==============================] - 11s 43ms/step - loss: 0.0596 - val_loss: 0.0281\n",
      "Epoch 28/100\n",
      "253/253 [==============================] - 11s 43ms/step - loss: 0.0654 - val_loss: 0.0657\n",
      "Epoch 29/100\n",
      "253/253 [==============================] - 11s 45ms/step - loss: 0.0756 - val_loss: 0.0652\n",
      "Epoch 30/100\n",
      "253/253 [==============================] - 16s 62ms/step - loss: 0.0682 - val_loss: 0.0460\n",
      "Epoch 31/100\n",
      "253/253 [==============================] - 9s 36ms/step - loss: 0.0667 - val_loss: 0.0289\n",
      "Epoch 32/100\n",
      "253/253 [==============================] - 9s 37ms/step - loss: 0.0624 - val_loss: 0.1206\n",
      "Epoch 33/100\n",
      "253/253 [==============================] - 10s 41ms/step - loss: 0.0742 - val_loss: 0.0305\n",
      "Epoch 34/100\n",
      "253/253 [==============================] - 10s 38ms/step - loss: 0.0690 - val_loss: 0.0582\n",
      "Epoch 35/100\n",
      "253/253 [==============================] - 10s 41ms/step - loss: 0.0776 - val_loss: 0.0746\n",
      "Epoch 36/100\n",
      "253/253 [==============================] - 10s 41ms/step - loss: 0.0563 - val_loss: 0.0180\n",
      "Epoch 37/100\n",
      "253/253 [==============================] - 10s 40ms/step - loss: 0.0627 - val_loss: 0.0990\n",
      "Epoch 38/100\n",
      "253/253 [==============================] - 10s 39ms/step - loss: 0.0612 - val_loss: 0.3897\n",
      "Epoch 39/100\n",
      "253/253 [==============================] - 10s 41ms/step - loss: 0.0713 - val_loss: 0.1442\n",
      "Epoch 40/100\n",
      "253/253 [==============================] - 10s 39ms/step - loss: 0.0703 - val_loss: 0.0601\n",
      "Epoch 41/100\n",
      "253/253 [==============================] - 10s 39ms/step - loss: 0.0605 - val_loss: 0.6586\n",
      "Epoch 42/100\n",
      "253/253 [==============================] - 10s 39ms/step - loss: 0.0455 - val_loss: 0.0327\n",
      "Epoch 43/100\n",
      "253/253 [==============================] - 10s 39ms/step - loss: 0.0564 - val_loss: 0.0188\n",
      "Epoch 44/100\n",
      "253/253 [==============================] - 10s 40ms/step - loss: 0.0626 - val_loss: 0.0315\n",
      "Epoch 45/100\n",
      "253/253 [==============================] - 10s 39ms/step - loss: 0.0575 - val_loss: 0.0599\n",
      "Epoch 46/100\n",
      "253/253 [==============================] - 10s 39ms/step - loss: 0.0551 - val_loss: 0.0359\n"
     ]
    }
   ],
   "source": [
    "history = model_pretext.fit(X_train_transformed, y_train_transformed_one_hot, \n",
    "                            validation_data = (X_devel_transformed, y_devel_transformed_one_hot),\n",
    "                            callbacks = [callback], \n",
    "                            epochs = 100, \n",
    "                            batch_size = 32, \n",
    "                            verbose = 1)"
   ]
  },
  {
   "cell_type": "code",
   "execution_count": 73,
   "metadata": {},
   "outputs": [
    {
     "data": {
      "image/png": "[encoded data removed]",
      "text/plain": [
       "<Figure size 640x480 with 1 Axes>"
      ]
     },
     "metadata": {},
     "output_type": "display_data"
    }
   ],
   "source": [
    "plt.plot(history.history['loss'])\n",
    "plt.plot(history.history['val_loss'])\n",
    "plt.show()"
   ]
  },
  {
   "cell_type": "code",
   "execution_count": 74,
   "metadata": {},
   "outputs": [],
   "source": [
    "# Stacking the layers\n",
    "x = layers.Dense(128)(model_pretext.layers[-5].output)\n",
    "x = layers.Dropout(0.5)(x)\n",
    "x = layers.Activation(layers.LeakyReLU())(x)\n",
    "outputs_downstream = layers.Dense(3, 'softmax')(x)"
   ]
  },
  {
   "cell_type": "code",
   "execution_count": 75,
   "metadata": {},
   "outputs": [],
   "source": [
    "# Create a model\n",
    "model_downstream = keras.Model(inputs, outputs_downstream)\n",
    "for i in range(len(model_downstream.layers) - 5):\n",
    "    model_downstream.layers[i].trainable = False"
   ]
  },
  {
   "cell_type": "code",
   "execution_count": 76,
   "metadata": {},
   "outputs": [],
   "source": [
    "# Optimizer and callbacks (to stop the training when the development loss does not decrease)\n",
    "opt = keras.optimizers.Adam(learning_rate = 0.001)\n",
    "callback = tf.keras.callbacks.EarlyStopping(monitor = 'val_loss', \n",
    "                                            patience = 10, \n",
    "                                            restore_best_weights = True)"
   ]
  },
  {
   "cell_type": "code",
   "execution_count": 77,
   "metadata": {},
   "outputs": [],
   "source": [
    "# Compile and fit the model\n",
    "model_downstream.compile(optimizer = opt, loss = 'categorical_crossentropy')\n"
   ]
  },
  {
   "cell_type": "code",
   "execution_count": 78,
   "metadata": {},
   "outputs": [
    {
     "name": "stdout",
     "output_type": "stream",
     "text": [
      "Model: \"model_2\"\n",
      "_________________________________________________________________\n",
      " Layer (type)                Output Shape              Param #   \n",
      "=================================================================\n",
      " input_2 (InputLayer)        [(None, 2560, 1)]         0         \n",
      "                                                                 \n",
      " conv1d_4 (Conv1D)           (None, 2529, 32)          1056      \n",
      "                                                                 \n",
      " batch_normalization_4 (Batc  (None, 2529, 32)         128       \n",
      " hNormalization)                                                 \n",
      "                                                                 \n",
      " activation_5 (Activation)   (None, 2529, 32)          0         \n",
      "                                                                 \n",
      " conv1d_5 (Conv1D)           (None, 2498, 32)          32800     \n",
      "                                                                 \n",
      " batch_normalization_5 (Batc  (None, 2498, 32)         128       \n",
      " hNormalization)                                                 \n",
      "                                                                 \n",
      " activation_6 (Activation)   (None, 2498, 32)          0         \n",
      "                                                                 \n",
      " max_pooling1d_1 (MaxPooling  (None, 1246, 32)         0         \n",
      " 1D)                                                             \n",
      "                                                                 \n",
      " conv1d_6 (Conv1D)           (None, 1231, 64)          32832     \n",
      "                                                                 \n",
      " batch_normalization_6 (Batc  (None, 1231, 64)         256       \n",
      " hNormalization)                                                 \n",
      "                                                                 \n",
      " activation_7 (Activation)   (None, 1231, 64)          0         \n",
      "                                                                 \n",
      " conv1d_7 (Conv1D)           (None, 1216, 64)          65600     \n",
      "                                                                 \n",
      " batch_normalization_7 (Batc  (None, 1216, 64)         256       \n",
      " hNormalization)                                                 \n",
      "                                                                 \n",
      " activation_8 (Activation)   (None, 1216, 64)          0         \n",
      "                                                                 \n",
      " global_max_pooling1d_1 (Glo  (None, 64)               0         \n",
      " balMaxPooling1D)                                                \n",
      "                                                                 \n",
      " flatten_1 (Flatten)         (None, 64)                0         \n",
      "                                                                 \n",
      " dense_4 (Dense)             (None, 128)               8320      \n",
      "                                                                 \n",
      " dropout_2 (Dropout)         (None, 128)               0         \n",
      "                                                                 \n",
      " activation_10 (Activation)  (None, 128)               0         \n",
      "                                                                 \n",
      " dense_5 (Dense)             (None, 3)                 387       \n",
      "                                                                 \n",
      "=================================================================\n",
      "Total params: 141,763\n",
      "Trainable params: 8,707\n",
      "Non-trainable params: 133,056\n",
      "_________________________________________________________________\n"
     ]
    }
   ],
   "source": [
    "model_downstream.summary()"
   ]
  },
  {
   "cell_type": "code",
   "execution_count": 79,
   "metadata": {},
   "outputs": [
    {
     "name": "stdout",
     "output_type": "stream",
     "text": [
      "Epoch 1/100\n",
      "64/64 - 2s - loss: 1.2116 - val_loss: 0.9943 - 2s/epoch - 37ms/step\n",
      "Epoch 2/100\n",
      "64/64 - 1s - loss: 1.0331 - val_loss: 0.9459 - 1s/epoch - 16ms/step\n",
      "Epoch 3/100\n",
      "64/64 - 1s - loss: 0.9988 - val_loss: 0.9388 - 1s/epoch - 16ms/step\n",
      "Epoch 4/100\n",
      "64/64 - 1s - loss: 0.9674 - val_loss: 0.9216 - 1s/epoch - 16ms/step\n",
      "Epoch 5/100\n",
      "64/64 - 1s - loss: 0.9458 - val_loss: 0.9508 - 1s/epoch - 16ms/step\n",
      "Epoch 6/100\n",
      "64/64 - 1s - loss: 0.9302 - val_loss: 0.9055 - 1s/epoch - 16ms/step\n",
      "Epoch 7/100\n",
      "64/64 - 1s - loss: 0.9226 - val_loss: 0.8715 - 1s/epoch - 16ms/step\n",
      "Epoch 8/100\n",
      "64/64 - 1s - loss: 0.9144 - val_loss: 0.8757 - 1s/epoch - 16ms/step\n",
      "Epoch 9/100\n",
      "64/64 - 1s - loss: 0.8842 - val_loss: 0.8488 - 1s/epoch - 16ms/step\n",
      "Epoch 10/100\n",
      "64/64 - 1s - loss: 0.8816 - val_loss: 0.8296 - 989ms/epoch - 15ms/step\n",
      "Epoch 11/100\n",
      "64/64 - 1s - loss: 0.8717 - val_loss: 0.8397 - 981ms/epoch - 15ms/step\n",
      "Epoch 12/100\n",
      "64/64 - 1s - loss: 0.8621 - val_loss: 0.8023 - 991ms/epoch - 15ms/step\n",
      "Epoch 13/100\n",
      "64/64 - 1s - loss: 0.8413 - val_loss: 0.8122 - 994ms/epoch - 16ms/step\n",
      "Epoch 14/100\n",
      "64/64 - 1s - loss: 0.8232 - val_loss: 0.7637 - 1s/epoch - 16ms/step\n",
      "Epoch 15/100\n",
      "64/64 - 1s - loss: 0.8259 - val_loss: 0.8418 - 981ms/epoch - 15ms/step\n",
      "Epoch 16/100\n",
      "64/64 - 1s - loss: 0.8245 - val_loss: 0.7591 - 991ms/epoch - 15ms/step\n",
      "Epoch 17/100\n",
      "64/64 - 1s - loss: 0.7912 - val_loss: 0.7387 - 985ms/epoch - 15ms/step\n",
      "Epoch 18/100\n",
      "64/64 - 1s - loss: 0.7850 - val_loss: 0.7405 - 990ms/epoch - 15ms/step\n",
      "Epoch 19/100\n",
      "64/64 - 1s - loss: 0.7823 - val_loss: 0.7123 - 985ms/epoch - 15ms/step\n",
      "Epoch 20/100\n",
      "64/64 - 1s - loss: 0.7647 - val_loss: 0.7122 - 981ms/epoch - 15ms/step\n",
      "Epoch 21/100\n",
      "64/64 - 1s - loss: 0.7671 - val_loss: 0.7277 - 979ms/epoch - 15ms/step\n",
      "Epoch 22/100\n",
      "64/64 - 1s - loss: 0.7715 - val_loss: 0.6990 - 984ms/epoch - 15ms/step\n",
      "Epoch 23/100\n",
      "64/64 - 1s - loss: 0.7585 - val_loss: 0.6764 - 989ms/epoch - 15ms/step\n",
      "Epoch 24/100\n",
      "64/64 - 1s - loss: 0.7296 - val_loss: 0.6655 - 982ms/epoch - 15ms/step\n",
      "Epoch 25/100\n",
      "64/64 - 1s - loss: 0.7315 - val_loss: 0.6701 - 983ms/epoch - 15ms/step\n",
      "Epoch 26/100\n",
      "64/64 - 1s - loss: 0.7231 - val_loss: 0.6579 - 988ms/epoch - 15ms/step\n",
      "Epoch 27/100\n",
      "64/64 - 1s - loss: 0.7171 - val_loss: 0.6554 - 975ms/epoch - 15ms/step\n",
      "Epoch 28/100\n",
      "64/64 - 1s - loss: 0.7252 - val_loss: 0.6458 - 985ms/epoch - 15ms/step\n",
      "Epoch 29/100\n",
      "64/64 - 1s - loss: 0.7420 - val_loss: 0.6444 - 984ms/epoch - 15ms/step\n",
      "Epoch 30/100\n",
      "64/64 - 1s - loss: 0.7046 - val_loss: 0.6294 - 989ms/epoch - 15ms/step\n",
      "Epoch 31/100\n",
      "64/64 - 1s - loss: 0.6913 - val_loss: 0.6256 - 984ms/epoch - 15ms/step\n",
      "Epoch 32/100\n",
      "64/64 - 1s - loss: 0.6964 - val_loss: 0.6433 - 982ms/epoch - 15ms/step\n",
      "Epoch 33/100\n",
      "64/64 - 1s - loss: 0.6889 - val_loss: 0.6267 - 981ms/epoch - 15ms/step\n",
      "Epoch 34/100\n",
      "64/64 - 1s - loss: 0.7015 - val_loss: 0.6054 - 985ms/epoch - 15ms/step\n",
      "Epoch 35/100\n",
      "64/64 - 1s - loss: 0.6871 - val_loss: 0.6186 - 975ms/epoch - 15ms/step\n",
      "Epoch 36/100\n",
      "64/64 - 1s - loss: 0.6762 - val_loss: 0.5886 - 985ms/epoch - 15ms/step\n",
      "Epoch 37/100\n",
      "64/64 - 1s - loss: 0.6776 - val_loss: 0.5848 - 982ms/epoch - 15ms/step\n",
      "Epoch 38/100\n",
      "64/64 - 1s - loss: 0.6610 - val_loss: 0.5801 - 988ms/epoch - 15ms/step\n",
      "Epoch 39/100\n",
      "64/64 - 1s - loss: 0.6775 - val_loss: 0.6093 - 981ms/epoch - 15ms/step\n",
      "Epoch 40/100\n",
      "64/64 - 1s - loss: 0.6574 - val_loss: 0.6057 - 976ms/epoch - 15ms/step\n",
      "Epoch 41/100\n",
      "64/64 - 1s - loss: 0.6640 - val_loss: 0.6423 - 979ms/epoch - 15ms/step\n",
      "Epoch 42/100\n",
      "64/64 - 1s - loss: 0.6515 - val_loss: 0.5941 - 979ms/epoch - 15ms/step\n",
      "Epoch 43/100\n",
      "64/64 - 1s - loss: 0.6361 - val_loss: 0.5965 - 989ms/epoch - 15ms/step\n",
      "Epoch 44/100\n",
      "64/64 - 1s - loss: 0.6462 - val_loss: 0.5724 - 984ms/epoch - 15ms/step\n",
      "Epoch 45/100\n",
      "64/64 - 1s - loss: 0.6276 - val_loss: 0.5726 - 979ms/epoch - 15ms/step\n",
      "Epoch 46/100\n",
      "64/64 - 1s - loss: 0.6301 - val_loss: 0.5715 - 995ms/epoch - 16ms/step\n",
      "Epoch 47/100\n",
      "64/64 - 1s - loss: 0.6338 - val_loss: 0.5917 - 990ms/epoch - 15ms/step\n",
      "Epoch 48/100\n",
      "64/64 - 1s - loss: 0.6181 - val_loss: 0.5546 - 991ms/epoch - 15ms/step\n",
      "Epoch 49/100\n",
      "64/64 - 1s - loss: 0.6353 - val_loss: 0.5577 - 983ms/epoch - 15ms/step\n",
      "Epoch 50/100\n",
      "64/64 - 1s - loss: 0.6240 - val_loss: 0.5353 - 990ms/epoch - 15ms/step\n",
      "Epoch 51/100\n",
      "64/64 - 1s - loss: 0.6128 - val_loss: 0.5378 - 983ms/epoch - 15ms/step\n",
      "Epoch 52/100\n",
      "64/64 - 1s - loss: 0.6025 - val_loss: 0.5269 - 985ms/epoch - 15ms/step\n",
      "Epoch 53/100\n",
      "64/64 - 1s - loss: 0.6073 - val_loss: 0.5912 - 984ms/epoch - 15ms/step\n",
      "Epoch 54/100\n",
      "64/64 - 1s - loss: 0.6217 - val_loss: 0.5276 - 982ms/epoch - 15ms/step\n",
      "Epoch 55/100\n",
      "64/64 - 1s - loss: 0.6118 - val_loss: 0.5229 - 985ms/epoch - 15ms/step\n",
      "Epoch 56/100\n",
      "64/64 - 1s - loss: 0.5871 - val_loss: 0.5233 - 976ms/epoch - 15ms/step\n",
      "Epoch 57/100\n",
      "64/64 - 1s - loss: 0.6022 - val_loss: 0.5280 - 983ms/epoch - 15ms/step\n",
      "Epoch 58/100\n",
      "64/64 - 1s - loss: 0.5981 - val_loss: 0.5182 - 983ms/epoch - 15ms/step\n",
      "Epoch 59/100\n",
      "64/64 - 1s - loss: 0.5956 - val_loss: 0.5226 - 980ms/epoch - 15ms/step\n",
      "Epoch 60/100\n",
      "64/64 - 1s - loss: 0.6191 - val_loss: 0.5421 - 979ms/epoch - 15ms/step\n",
      "Epoch 61/100\n",
      "64/64 - 1s - loss: 0.6056 - val_loss: 0.5417 - 992ms/epoch - 16ms/step\n",
      "Epoch 62/100\n",
      "64/64 - 1s - loss: 0.5841 - val_loss: 0.5074 - 986ms/epoch - 15ms/step\n",
      "Epoch 63/100\n",
      "64/64 - 1s - loss: 0.6491 - val_loss: 0.5177 - 988ms/epoch - 15ms/step\n",
      "Epoch 64/100\n",
      "64/64 - 1s - loss: 0.5963 - val_loss: 0.5006 - 988ms/epoch - 15ms/step\n",
      "Epoch 65/100\n",
      "64/64 - 1s - loss: 0.6041 - val_loss: 0.5317 - 979ms/epoch - 15ms/step\n",
      "Epoch 66/100\n",
      "64/64 - 1s - loss: 0.5730 - val_loss: 0.4915 - 989ms/epoch - 15ms/step\n",
      "Epoch 67/100\n",
      "64/64 - 1s - loss: 0.5926 - val_loss: 0.5011 - 985ms/epoch - 15ms/step\n",
      "Epoch 68/100\n",
      "64/64 - 1s - loss: 0.5680 - val_loss: 0.5096 - 981ms/epoch - 15ms/step\n",
      "Epoch 69/100\n",
      "64/64 - 1s - loss: 0.5923 - val_loss: 0.4872 - 992ms/epoch - 15ms/step\n",
      "Epoch 70/100\n",
      "64/64 - 1s - loss: 0.5907 - val_loss: 0.4874 - 980ms/epoch - 15ms/step\n",
      "Epoch 71/100\n",
      "64/64 - 1s - loss: 0.5606 - val_loss: 0.4831 - 987ms/epoch - 15ms/step\n",
      "Epoch 72/100\n",
      "64/64 - 1s - loss: 0.5697 - val_loss: 0.5059 - 975ms/epoch - 15ms/step\n",
      "Epoch 73/100\n",
      "64/64 - 1s - loss: 0.5544 - val_loss: 0.5503 - 979ms/epoch - 15ms/step\n",
      "Epoch 74/100\n",
      "64/64 - 1s - loss: 0.5663 - val_loss: 0.5008 - 982ms/epoch - 15ms/step\n",
      "Epoch 75/100\n",
      "64/64 - 1s - loss: 0.5668 - val_loss: 0.4979 - 979ms/epoch - 15ms/step\n",
      "Epoch 76/100\n",
      "64/64 - 1s - loss: 0.5573 - val_loss: 0.5023 - 979ms/epoch - 15ms/step\n",
      "Epoch 77/100\n",
      "64/64 - 1s - loss: 0.5649 - val_loss: 0.4776 - 991ms/epoch - 15ms/step\n",
      "Epoch 78/100\n",
      "64/64 - 1s - loss: 0.5778 - val_loss: 0.5283 - 973ms/epoch - 15ms/step\n",
      "Epoch 79/100\n",
      "64/64 - 1s - loss: 0.5770 - val_loss: 0.4833 - 981ms/epoch - 15ms/step\n",
      "Epoch 80/100\n",
      "64/64 - 1s - loss: 0.5599 - val_loss: 0.4654 - 987ms/epoch - 15ms/step\n",
      "Epoch 81/100\n",
      "64/64 - 1s - loss: 0.5630 - val_loss: 0.4966 - 993ms/epoch - 16ms/step\n",
      "Epoch 82/100\n",
      "64/64 - 1s - loss: 0.5557 - val_loss: 0.4912 - 1s/epoch - 16ms/step\n",
      "Epoch 83/100\n",
      "64/64 - 1s - loss: 0.5399 - val_loss: 0.4677 - 1s/epoch - 16ms/step\n",
      "Epoch 84/100\n",
      "64/64 - 1s - loss: 0.5450 - val_loss: 0.4724 - 1s/epoch - 16ms/step\n",
      "Epoch 85/100\n",
      "64/64 - 1s - loss: 0.5756 - val_loss: 0.4835 - 1s/epoch - 16ms/step\n",
      "Epoch 86/100\n",
      "64/64 - 1s - loss: 0.6174 - val_loss: 0.4732 - 984ms/epoch - 15ms/step\n",
      "Epoch 87/100\n",
      "64/64 - 1s - loss: 0.5399 - val_loss: 0.4662 - 985ms/epoch - 15ms/step\n",
      "Epoch 88/100\n",
      "64/64 - 1s - loss: 0.5504 - val_loss: 0.4783 - 981ms/epoch - 15ms/step\n",
      "Epoch 89/100\n",
      "64/64 - 1s - loss: 0.5362 - val_loss: 0.5486 - 982ms/epoch - 15ms/step\n",
      "Epoch 90/100\n",
      "64/64 - 1s - loss: 0.5536 - val_loss: 0.5309 - 1s/epoch - 16ms/step\n"
     ]
    }
   ],
   "source": [
    "history = model_downstream.fit(X_train_norm, \n",
    "                               y_train_one_hot, \n",
    "                               validation_data = (X_devel_norm, y_devel_one_hot), \n",
    "                               callbacks = [callback], \n",
    "                               epochs = 100,\n",
    "                               batch_size = 32, \n",
    "                               verbose = 2)"
   ]
  },
  {
   "cell_type": "code",
   "execution_count": 80,
   "metadata": {},
   "outputs": [
    {
     "data": {
      "image/png": "[encoded data removed]",
      "text/plain": [
       "<Figure size 640x480 with 1 Axes>"
      ]
     },
     "metadata": {},
     "output_type": "display_data"
    }
   ],
   "source": [
    "plt.plot(history.history['loss'])\n",
    "plt.plot(history.history['val_loss'])\n",
    "plt.show()"
   ]
  },
  {
   "cell_type": "code",
   "execution_count": 81,
   "metadata": {},
   "outputs": [],
   "source": [
    "pred_downstream = model_downstream.predict(X_test_norm)"
   ]
  },
  {
   "cell_type": "code",
   "execution_count": 82,
   "metadata": {},
   "outputs": [
    {
     "name": "stdout",
     "output_type": "stream",
     "text": [
      "Accuracy:     0.813\n",
      "F1 score:     0.716\n",
      "UAR:          0.812\n"
     ]
    }
   ],
   "source": [
    "print('Accuracy:    ', (np.round(accuracy_score(np.argmax(pred_downstream, axis = 1), y_test), 3)))\n",
    "print('F1 score:    ', (np.round(f1_score(np.argmax(pred_downstream, axis = 1), y_test, average = 'macro'), 3)))\n",
    "print('UAR:         ', (np.round(recall_score(np.argmax(pred_downstream, axis = 1), y_test, average = 'macro'), 3)))"
   ]
  },
  {
   "cell_type": "code",
   "execution_count": 83,
   "metadata": {},
   "outputs": [
    {
     "name": "stdout",
     "output_type": "stream",
     "text": [
      "Self supervised UAR:      0.812\n",
      "Fully supervised UAR:     0.969\n"
     ]
    }
   ],
   "source": [
    "print('Self supervised UAR:     ', (np.round(recall_score(np.argmax(pred_downstream, axis = 1), y_test, average = 'macro'), 3)))\n",
    "print('Fully supervised UAR:    ', (np.round(recall_score(np.argmax(pred_fully_supervised, axis = 1), y_test, average = 'macro'), 3)))"
   ]
  },
  {
   "cell_type": "code",
   "execution_count": 84,
   "metadata": {},
   "outputs": [],
   "source": [
    "self_supervised = pd.read_csv('results_cv/self_supervised.csv', index_col = 0)\n",
    "fully_supervised = pd.read_csv('results_cv/fully_supervised.csv', index_col = 0)\n",
    "classical = pd.read_csv('results_cv/classical.csv', index_col = 0)"
   ]
  },
  {
   "cell_type": "code",
   "execution_count": 85,
   "metadata": {},
   "outputs": [],
   "source": [
    "# Extract Mean over Cross Validation Partitions\n",
    "self_supervised_mean = np.mean(self_supervised, axis = 0)\n",
    "fully_supervised_mean = np.mean(fully_supervised, axis = 0)\n",
    "classical_mean = np.mean(classical, axis = 0)\n",
    "\n",
    "x = np.arange(3)"
   ]
  },
  {
   "cell_type": "code",
   "execution_count": 86,
   "metadata": {},
   "outputs": [
    {
     "data": {
      "image/png": "[encoded data removed]",
      "text/plain": [
       "<Figure size 1000x800 with 1 Axes>"
      ]
     },
     "metadata": {},
     "output_type": "display_data"
    }
   ],
   "source": [
    "plt.figure(figsize=(10,8))\n",
    "plt.bar(x - 0.2, classical_mean, width = 0.2, color = \"skyblue\", label = 'Classical')\n",
    "plt.bar(x, fully_supervised_mean, width = 0.2, color = \"red\", label = 'Fully supervised')\n",
    "plt.bar(x + 0.2, self_supervised_mean, width = 0.2, color = \"green\", label = 'Self supervised')\n",
    "\n",
    "plt.ylim([0.4, 1])\n",
    "plt.xticks([0, 1, 2], ['Accuracy', 'F1 score', 'UAR'], size = 12)\n",
    "\n",
    "plt.legend(loc = 'upper center', bbox_to_anchor=(0.5, -0.05), ncol=3)\n",
    "plt.show()"
   ]
  },
  {
   "cell_type": "code",
   "execution_count": null,
   "metadata": {},
   "outputs": [],
   "source": []
  }
 ],
 "metadata": {
  "kernelspec": {
   "display_name": "Python 3.9.13 ('GPU-ENV')",
   "language": "python",
   "name": "python3"
  },
  "language_info": {
   "codemirror_mode": {
    "name": "ipython",
    "version": 3
   },
   "file_extension": ".py",
   "mimetype": "text/x-python",
   "name": "python",
   "nbconvert_exporter": "python",
   "pygments_lexer": "ipython3",
   "version": "3.9.13"
  },
  "orig_nbformat": 4,
  "vscode": {
   "interpreter": {
    "hash": "49ac5221da2eb58e4661dbfaf9c49835db5af697a89f602a9deef4b00ab51f2a"
   }
  }
 },
 "nbformat": 4,
 "nbformat_minor": 2
}
